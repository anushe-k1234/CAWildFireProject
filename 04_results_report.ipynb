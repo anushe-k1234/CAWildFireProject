{
 "cells": [
  {
   "cell_type": "markdown",
   "metadata": {},
   "source": [
    "# Notebook 4: Results Report\n",
    "\n",
    "### Summary of Findings\n",
    "Objective: Summarize conclusions drawn from previous notebooks. "
   ]
  },
  {
   "cell_type": "markdown",
   "metadata": {},
   "source": [
    "### Step 1: Overall Project Summary\n",
    "\n",
    "This project investigates how California wildfires have evolved in frequency, scale, and impact over recent decades. Using weather, fire incident, and socio-environmental data, we conducted exploratory analyses, built predictive models, and examined risk factors contributing to extreme wildfires. Key findings highlight a growing fire season, regional disparities in damage, and strong associations between climate variables and fire behavior."
   ]
  },
  {
   "cell_type": "markdown",
   "metadata": {},
   "source": [
    "### Step 2: Key Findings by Section\n",
    "\n",
    "#### Exploratory Analysis\n",
    "\n",
    "1. Wildfire Patterns Over Time\n",
    "\n",
    "    a. Fires have increased in number and intensity over the years.\n",
    "\n",
    "    b. Fire seasons have lengthened, with fires starting earlier and ending later.\n",
    "\n",
    "    c. Total acres burned has risen dramatically in recent decades.\n",
    "\n",
    "2. Regional & Cause Variability\n",
    "\n",
    "    a. Certain counties such as Los Angeles or Riverside are consistent hotspots.\n",
    "\n",
    "    b. Human-caused fires dominate, but lightning and utility-sparked fires tend to be larger on average.\n",
    "\n",
    "3. Geospatial Trends\n",
    "\n",
    "    a. Choropleth maps revealed clusters of fire activity in Northern California and the Sierra Nevada foothills.\n",
    "\n",
    "    b. Hotspot clustering using DBSCAN identified regions with persistent, high-density ignition.\n",
    "\n",
    "4. Climate and Wildfire Interactions\n",
    "\n",
    "    a. Strong positive correlation between fire size and temperature, wind speed, and drought index.\n",
    "\n",
    "    b. Regression models show temperature and wind significantly increase predicted fire size.\n",
    "\n",
    "#### Predictive Modeling \n",
    "\n",
    "1. Fire Size Prediction\n",
    "\n",
    "    a. Model: Random Forest Regressor\n",
    "\n",
    "    b. Top predictive features (from SHAP): temperature, wind, ignition source.\n",
    "\n",
    "    c. R² score: 0.956\n",
    "\n",
    "2. Mega Fire Classification (>100k acres)\n",
    "\n",
    "    a. Classifier: Random Forest\n",
    "\n",
    "    b. ROC-AUC: 1.00, Precision: 0.43, Recall: 0.33\n",
    "\n",
    "    c. model missed many mega fires since they are very rare in the data, making them hard to detect accurately.\n",
    "\n",
    "3. Damage Cost Estimation\n",
    "\n",
    "    a. Damage cost is strongly influenced by built environment risk and population density, meaning fires near urban areas cause much higher losses.\n",
    "\n",
    "    b. Damage does not always scale with fire size; smaller fires can be very costly if they occur near developed areas. "
   ]
  },
  {
   "cell_type": "markdown",
   "metadata": {},
   "source": [
    "### Step 3: Limitations\n",
    "\n",
    "Limitations faced while building project."
   ]
  },
  {
   "cell_type": "markdown",
   "metadata": {},
   "source": [
    "1. Data Quality and Completeness\n",
    "\n",
    "    a. The datasets used contained missing values and inconsistencies, particularly in fire perimeter records and damage cost estimates. Weather data was often based on point measurements and may not fully capture spatial variability across large fire perimeters.\n",
    "\n",
    "2. Class Imbalance in Mega Fire Classification\n",
    "\n",
    "    a. Mega fires are rare events, leading to highly imbalanced classes that challenge the classification models. This imbalance limited the model’s ability to reliably detect mega fires, as reflected by low recall scores.\n",
    "3. Climate Change Uncertainty\n",
    "\n",
    "    a. Historical data may not fully capture future wildfire risks under rapidly changing climate conditions."
   ]
  },
  {
   "cell_type": "markdown",
   "metadata": {},
   "source": []
  }
 ],
 "metadata": {
  "language_info": {
   "name": "python"
  }
 },
 "nbformat": 4,
 "nbformat_minor": 2
}
